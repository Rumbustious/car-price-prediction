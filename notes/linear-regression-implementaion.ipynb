{
 "cells": [
  {
   "cell_type": "code",
   "execution_count": null,
   "metadata": {},
   "outputs": [],
   "source": [
    "import numpy as np\n",
    "def train_linear_regression(X, y):\n",
    "  # adding the dummy column\n",
    "  ones = np.ones(X.shape[0])\n",
    "  X = np.column_stack([ones, X])\n",
    "  # normal equation formula\n",
    "  XTX = X.T.dot(X)\n",
    "  XTX_inv = np.linalg.inv(XTX)\n",
    "  w = XTX_inv.dot(X.T).dot(y)\n",
    "  return w[0], w[1:]"
   ]
  }
 ],
 "metadata": {
  "language_info": {
   "name": "python"
  }
 },
 "nbformat": 4,
 "nbformat_minor": 2
}
