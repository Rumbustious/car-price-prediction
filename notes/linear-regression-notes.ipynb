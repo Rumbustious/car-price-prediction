{
 "cells": [
  {
   "cell_type": "code",
   "execution_count": null,
   "metadata": {},
   "outputs": [],
   "source": [
    "# \n",
    "# def g(xi):\n",
    "#   xi is a list with n elements\n",
    "#   do something with xi\n",
    "#   return the result\n",
    "#pass\n",
    "# xi = [453, 11, 86]\n",
    "# y_pred = g(xi)\n",
    "# we expect y_pred to be close to yi which is the true output for xi\n",
    "# in linear regression we have the bias term (Omega_o) and wieghts (Omega_1, Omega_2, etc.)\n",
    "# in Python linear regression could be like this:\n",
    "# def linear_regression(xi):\n",
    "#   result = w0\n",
    "#   for j in range(n):\n",
    "#   result = result + xi[j] * w[j]\n",
    "# return result\n",
    "# or more simply like this:\n",
    "# def linear_regression(xi):\n",
    "#   xi = [1] + xi\n",
    "#   return dot(xi, w)\n",
    "# for a materix X as features and a vector Omega (w) we can do a linear algebra matrix vector multiplication as follows\n",
    "# predictions = []\n",
    "# for xi in X:\n",
    "# pred = dot(xi, w)\n",
    "# predictions.append(pred)\n"
   ]
  }
 ],
 "metadata": {
  "kernelspec": {
   "display_name": "Python 3",
   "language": "python",
   "name": "python3"
  },
  "language_info": {
   "name": "python",
   "version": "3.11.0"
  }
 },
 "nbformat": 4,
 "nbformat_minor": 2
}
